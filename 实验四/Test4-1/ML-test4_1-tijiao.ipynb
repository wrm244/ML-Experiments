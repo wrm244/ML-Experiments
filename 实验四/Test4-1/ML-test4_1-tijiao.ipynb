{
 "cells": [
  {
   "cell_type": "markdown",
   "id": "98d3e0e6",
   "metadata": {},
   "source": [
    "## 实验4 第1题"
   ]
  },
  {
   "cell_type": "code",
   "execution_count": 3,
   "id": "5a8c6e50",
   "metadata": {},
   "outputs": [],
   "source": [
    "# 导入库\n",
    "import numpy as np\n",
    "from matplotlib import pyplot as plt\n",
    "from sklearn.ensemble import AdaBoostClassifier\n",
    "from sklearn.metrics import confusion_matrix, ConfusionMatrixDisplay, precision_score, recall_score, \\\n",
    "    f1_score, classification_report\n",
    "from sklearn.tree import DecisionTreeClassifier"
   ]
  },
  {
   "cell_type": "code",
   "execution_count": 4,
   "id": "e9de2106",
   "metadata": {},
   "outputs": [],
   "source": [
    "# 将数据转为数字,分割特征和标签\n",
    "def loadDataSet(filename):\n",
    "    # 获取每个样本的维度(包括标签)\n",
    "    dim = len(open(filename).readline().split('\\t'))\n",
    "    # 特征\n",
    "    data = []\n",
    "    # 标签\n",
    "    label = []\n",
    "    fr = open(filename)\n",
    "    for line in fr.readlines():  #一行行的读取\n",
    "        # 空列表,用来存放每一行数据\n",
    "        LineArr = []\n",
    "        # 以tab键划分，去除掉每个的空格\n",
    "        curline = line.strip().split('\\t')\n",
    "        for i in range(dim-1):\n",
    "            LineArr.append(float(curline[i]))\n",
    "        data.append(LineArr)\n",
    "        # 最后一列\n",
    "        label.append(float(curline[-1]))\n",
    "\n",
    "    # 返回特征和标签\n",
    "    return data,label"
   ]
  },
  {
   "cell_type": "code",
   "execution_count": 5,
   "id": "723d4d30",
   "metadata": {},
   "outputs": [
    {
     "name": "stdout",
     "output_type": "stream",
     "text": [
      "(299, 21)\n",
      "(67, 21)\n",
      "(299,)\n",
      "(67,)\n"
     ]
    }
   ],
   "source": [
    "# 加载数据集\n",
    "X_train,y_train = loadDataSet(\"./horse/horseColicTraining.txt\")\n",
    "X_test,y_test = loadDataSet(\"./horse/horseColicTest.txt\")\n",
    "print(np.shape(X_train)) # (299, 21)\n",
    "print(np.shape(X_test)) # (67, 21)\n",
    "print(np.shape(y_train)) # (299,)\n",
    "print(np.shape(y_test)) # (67,)"
   ]
  },
  {
   "cell_type": "code",
   "execution_count": 6,
   "id": "414dd832",
   "metadata": {},
   "outputs": [],
   "source": [
    "# 创建弱分类器,决策树\n",
    "# 此处填入你的代码\n",
    "from sklearn.tree import DecisionTreeClassifier\n",
    "# Create a weak classifier with max_depth=1\n",
    "weak_clf = DecisionTreeClassifier(max_depth=1)\n",
    "# Train the classifier on the training data\n",
    "weak_clf.fit(X_train, y_train)\n",
    "# Predict the labels on the test data\n",
    "y_pred = weak_clf.predict(X_test)"
   ]
  },
  {
   "cell_type": "code",
   "execution_count": 7,
   "id": "c087b5e5",
   "metadata": {},
   "outputs": [],
   "source": [
    "# AdaBoost算法\n",
    "def My_Adaboost(X_train,Y_train, X_test,Y_test, M=20, weak_clf=DecisionTreeClassifier(max_depth = 1)):\n",
    "    n_train, n_test = len(X_train), len(X_test) # n_train=299,训练样本个数;n_test=67,测试样本个数\n",
    "    # 初始化权重w\n",
    "    w = np.ones(n_train) / n_train # ones生成全1数组 D = (w11,w12,...,w1N),w1i = 1 / N,i=1,2,..,N\n",
    "    pred_train, pred_test = [np.zeros(n_train), np.zeros(n_test)] # 生成空列表\n",
    "    for i in range(M):    # M为基学习器个数\n",
    "        # 使用特定权重拟合分类器\n",
    "        weak_clf.fit(X_train, Y_train, sample_weight = w) # 用训练器数据拟合分类器模型\n",
    "        pred_train_i = weak_clf.predict(X_train) # 预测(-1/1)\n",
    "        pred_test_i = weak_clf.predict(X_test)\n",
    "\n",
    "        # miss相当于I(Gm(x)!=y),I为指示函数;pred_train_i相当于Gm(x)\n",
    "        miss = [int(x) for x in (pred_train_i != Y_train)] # pred_train_i != Y_train:x=0;pred_train_i == Y_train:x=1\n",
    "        print(\"weak_clf_%02d train acc: %.4f\"% (i + 1, 1 - sum(miss) / n_train))\n",
    "        # 基学习器Gm(x)\n",
    "        # err_m = w * I(Gm(x)!=y),I为指示函数,err_m相当于分类误差率em\n",
    "        # 错分率=分类错误样本权之和（经过归一化）\n",
    "        err_m = np.dot(w, miss) # 矩阵乘积\n",
    "        # Gm(x)的系数:Alpha_m,即最终集成使用的的基学习器的权重\n",
    "        alpha_m = 0.5 * np.log((1 - err_m) / float(err_m))\n",
    "        # 更新训练样本的权重,if x==1返回x,else 返回-1\n",
    "        miss2 = [x if x==1 else -1 for x in miss] # miss2 = -1 * y_i * G(x_i) = 1 / -1\n",
    "        w = np.multiply(w, np.exp([float(x) * alpha_m for x in miss2])) #multiply()函数对应元素相乘\n",
    "        w = w / sum(w)\n",
    "\n",
    "        # 添加到prediction\n",
    "        pred_train_i = [1 if x == 1 else -1 for x in pred_train_i] # 返回-1/1\n",
    "        pred_test_i = [1 if x == 1 else -1 for x in pred_test_i]\n",
    "        # 组合分类器,构建最终的分类器线性组合f(x),pred_train = f(x)\n",
    "        pred_train = pred_train + np.multiply(alpha_m, pred_train_i)\n",
    "        pred_test = pred_test + np.multiply(alpha_m, pred_test_i)\n",
    "\n",
    "    # 当x>0，sign(x)=1;当x=0，sign(x)=0; 当x<0， sign(x)=-1\n",
    "    pred_train = (pred_train > 0) * 1 # * 1 是为了将True/False变成1/0\n",
    "    pred_test = (pred_test > 0) * 1\n",
    "    # 训练精度\n",
    "    print(\"Accuracy of train is\",sum(pred_train == y_train) / n_train)\n",
    "    # 测试精度\n",
    "    print(\"Accuracy of test is\",sum(pred_test == y_test) / n_test)\n",
    "\n",
    "    return  pred_train,pred_test"
   ]
  },
  {
   "cell_type": "code",
   "execution_count": 8,
   "id": "dd8477a4",
   "metadata": {},
   "outputs": [
    {
     "name": "stdout",
     "output_type": "stream",
     "text": [
      "weak_clf_01 train acc: 0.7157\n",
      "weak_clf_02 train acc: 0.7157\n",
      "weak_clf_03 train acc: 0.4047\n",
      "weak_clf_04 train acc: 0.6187\n",
      "weak_clf_05 train acc: 0.6421\n",
      "weak_clf_06 train acc: 0.5953\n",
      "weak_clf_07 train acc: 0.6254\n",
      "weak_clf_08 train acc: 0.4047\n",
      "weak_clf_09 train acc: 0.6789\n",
      "weak_clf_10 train acc: 0.4749\n",
      "weak_clf_11 train acc: 0.6187\n",
      "weak_clf_12 train acc: 0.5418\n",
      "weak_clf_13 train acc: 0.4047\n",
      "weak_clf_14 train acc: 0.6221\n",
      "weak_clf_15 train acc: 0.4047\n",
      "weak_clf_16 train acc: 0.6087\n",
      "weak_clf_17 train acc: 0.4916\n",
      "weak_clf_18 train acc: 0.6355\n",
      "weak_clf_19 train acc: 0.4047\n",
      "weak_clf_20 train acc: 0.6087\n",
      "Accuracy of train is 0.7759197324414716\n",
      "Accuracy of test is 0.7761194029850746\n"
     ]
    }
   ],
   "source": [
    "# 预测测试集标签\n",
    "y_train_pred,y_test_pred =My_Adaboost(X_train, y_train, X_test, y_test, M=20, weak_clf=weak_clf)"
   ]
  },
  {
   "cell_type": "code",
   "execution_count": 9,
   "id": "3b0a4ed9",
   "metadata": {},
   "outputs": [
    {
     "name": "stdout",
     "output_type": "stream",
     "text": [
      "Confusion matrix of Label is \n",
      " [[13  7]\n",
      " [ 8 39]]\n"
     ]
    },
    {
     "data": {
      "image/png": "[encoded data removed]",
      "text/plain": [
       "<Figure size 640x480 with 2 Axes>"
      ]
     },
     "metadata": {},
     "output_type": "display_data"
    }
   ],
   "source": [
    "# 混淆矩阵格式如下：\n",
    "# #[TN FP]\n",
    "# #[FN TP]\n",
    "#生成混淆矩阵，此处填入你的代码。（3）\n",
    "from sklearn.metrics import confusion_matrix\n",
    "# Generate a confusion matrix\n",
    "cm = confusion_matrix(y_test, y_test_pred)\n",
    "print(\"Confusion matrix of Label is \\n\",cm)\n",
    "# confusion_matrix(混淆矩阵), display_labels(标签名称列表)\n",
    "disp = ConfusionMatrixDisplay(confusion_matrix=cm, display_labels=['0','1'])\n",
    "# 画出混淆矩阵\n",
    "disp.plot()\n",
    "plt.title(\"Confusion matrix\")\n",
    "# 保存\n",
    "plt.savefig(\"Confusion_matrix\")\n",
    "# 显示\n",
    "plt.show()"
   ]
  },
  {
   "cell_type": "code",
   "execution_count": 10,
   "id": "d6bd0acb",
   "metadata": {},
   "outputs": [
    {
     "name": "stdout",
     "output_type": "stream",
     "text": [
      "Rate of death is  0.31343283582089554\n"
     ]
    }
   ],
   "source": [
    "# 计算死亡率#,标签1表示存活,0表示死亡\n",
    "print(\"Rate of death is \",np.sum(y_test_pred == 0) / len(y_test))"
   ]
  },
  {
   "cell_type": "code",
   "execution_count": 11,
   "id": "91b3bbd3",
   "metadata": {},
   "outputs": [
    {
     "name": "stdout",
     "output_type": "stream",
     "text": [
      "Precision of Label is 0.8478260869565217\n"
     ]
    }
   ],
   "source": [
    "# 精确度 P = TP / (TP + FP)\n",
    "#输出精确度，此处填入你的代码。（4）\n",
    "# Calculate precision\n",
    "precision = precision_score(y_test, y_test_pred)\n",
    "# Print precision\n",
    "print(\"Precision of Label is\", precision)"
   ]
  },
  {
   "cell_type": "code",
   "execution_count": 12,
   "id": "1bcf10b1",
   "metadata": {},
   "outputs": [
    {
     "name": "stdout",
     "output_type": "stream",
     "text": [
      "Recall of Label is 0.8297872340425532\n"
     ]
    }
   ],
   "source": [
    "# 召回率R = TP / (TP + FN)\n",
    "print(\"Recall of Label is\",recall_score(y_test,y_test_pred))"
   ]
  },
  {
   "cell_type": "code",
   "execution_count": 14,
   "id": "31abf842",
   "metadata": {},
   "outputs": [
    {
     "name": "stdout",
     "output_type": "stream",
     "text": [
      "F1 of Label is 0.8387096774193549\n"
     ]
    }
   ],
   "source": [
    "# F1度量 F1 = (2 x P x R) / (P + R)\n",
    "print(\"F1 of Label is\",f1_score(y_test,y_test_pred))"
   ]
  },
  {
   "cell_type": "code",
   "execution_count": 16,
   "id": "eb6eda0a",
   "metadata": {},
   "outputs": [
    {
     "name": "stdout",
     "output_type": "stream",
     "text": [
      "              precision    recall  f1-score   support\n",
      "\n",
      "         0.0       0.61      0.70      0.65        20\n",
      "         1.0       0.86      0.81      0.84        47\n",
      "\n",
      "    accuracy                           0.78        67\n",
      "   macro avg       0.74      0.75      0.74        67\n",
      "weighted avg       0.79      0.78      0.78        67\n",
      "\n"
     ]
    },
    {
     "name": "stderr",
     "output_type": "stream",
     "text": [
      "/home/ist/miniconda3/envs/pytorch/lib/python3.9/site-packages/sklearn/ensemble/_base.py:166: FutureWarning: `base_estimator` was renamed to `estimator` in version 1.2 and will be removed in 1.4.\n",
      "  warnings.warn(\n"
     ]
    }
   ],
   "source": [
    "# 与sklearn的AdaBoostClassifier的结果比较\n",
    "# 此处填入你的代码。（5）\n",
    "model = AdaBoostClassifier(n_estimators=20, base_estimator=DecisionTreeClassifier(max_depth=1))\n",
    "# 拟合\n",
    "model.fit(X_train, y_train)\n",
    "# 预测\n",
    "y_pred = model.predict(X_test)\n",
    "# 输出精度报告\n",
    "print(classification_report(y_test, y_pred))"
   ]
  },
  {
   "cell_type": "code",
   "execution_count": 17,
   "id": "8a4d513b",
   "metadata": {},
   "outputs": [],
   "source": [
    "# 绘制P-R曲线\n",
    "def PR_curve(y,pred):\n",
    "    # pos为真实的正例标签个数\n",
    "    pos = np.sum(y == 1)\n",
    "    # 从大到小排序\n",
    "    pred_sort = np.sort(pred)[::-1]\n",
    "    # 从大到小排序的索引\n",
    "    index = np.argsort(pred)[::-1]\n",
    "    y_sort = y[index]\n",
    "\n",
    "    # Precision\n",
    "    Pre = []\n",
    "    # Recall\n",
    "    Rec = []\n",
    "    for i, item in enumerate(pred_sort):\n",
    "        if i == 0:\n",
    "            # 因为计算precision的时候分母要用到i，当i为0时会出错，所以单独列出\n",
    "            Pre.append(0)\n",
    "            Rec.append(0)\n",
    "        else:\n",
    "            # Precision = TP / TP + FP,i = TP + FP,预测为1的个数\n",
    "            Pre.append(np.sum((y_sort[:i] == 1)) /i)\n",
    "            # Recall = TP / TP + FN\n",
    "            Rec.append(np.sum((y_sort[:i] == 1)) / pos)\n",
    "\n",
    "    # 画图\n",
    "    # 横坐标Rec,纵坐标pre\n",
    "    plt.plot(Rec, Pre, 'r')\n",
    "    plt.title('Precision/Recall Curve')\n",
    "    plt.xlim([-0.01, 1.01])\n",
    "    plt.ylim([-0.01, 01.01])\n",
    "    plt.ylabel('Precision')\n",
    "    plt.xlabel('Recall')\n",
    "    # 保存\n",
    "    plt.savefig(\"P_R_Curve\")\n",
    "    plt.show()"
   ]
  },
  {
   "cell_type": "code",
   "execution_count": 18,
   "id": "1290f051",
   "metadata": {},
   "outputs": [
    {
     "data": {
      "text/plain": [
       "<matplotlib.legend.Legend at 0x7fcc4d082be0>"
      ]
     },
     "execution_count": 18,
     "metadata": {},
     "output_type": "execute_result"
    },
    {
     "data": {
      "image/png": "[encoded data removed]",
      "text/plain": [
       "<Figure size 640x480 with 1 Axes>"
      ]
     },
     "metadata": {},
     "output_type": "display_data"
    }
   ],
   "source": [
    "# 绘制P-R曲线\n",
    "# PR_curve(np.array(y_test),y_test_pred)\n",
    "# 预测\n",
    "\n",
    "# 绘制PR曲线  这个曲线绘图不好\n",
    "from sklearn.metrics import precision_recall_curve\n",
    "\n",
    "precision, recall, threshold = precision_recall_curve(y_test, y_test_pred,pos_label=1)\n",
    "fig = plt.figure()\n",
    "plt.plot(precision, recall, label='Horse Colic')\n",
    "\n",
    "plt.xlabel('Recall')\n",
    "plt.ylabel('Precision')\n",
    "plt.legend()"
   ]
  },
  {
   "cell_type": "code",
   "execution_count": 22,
   "id": "c2a23e0c",
   "metadata": {},
   "outputs": [
    {
     "data": {
      "image/png": "[encoded data removed]",
      "text/plain": [
       "<Figure size 640x480 with 1 Axes>"
      ]
     },
     "metadata": {},
     "output_type": "display_data"
    }
   ],
   "source": [
    "from sklearn.metrics import precision_recall_curve, average_precision_score\n",
    "# Calculate precision and recall\n",
    "precision, recall, threshold = precision_recall_curve(y_test, y_test_pred,pos_label=1)\n",
    "# Calculate average precision score\n",
    "ap = average_precision_score(y_test, y_test_pred)\n",
    "# Create precision recall curve\n",
    "fig, ax = plt.subplots()\n",
    "ax.plot(recall, precision, color='blue', label='Horse Colic')\n",
    "# Add title and axis labels\n",
    "ax.set_title('Precision-Recall Curve')\n",
    "ax.set_ylabel('Precision')\n",
    "ax.set_xlabel('Recall')\n",
    "# Add legend\n",
    "ax.legend()\n",
    "# Adjust x and y limits\n",
    "ax.set_xlim([0, 1])\n",
    "ax.set_ylim([0, 1])\n",
    "# Add reference line or point\n",
    "ax.plot([0, 1], [ap, ap], linestyle='--', color='red', label='Average Precision')\n",
    "ax.scatter(recall[np.argmax(precision + recall)], precision[np.argmax(precision + recall)], color='green', label='Best F1')\n",
    "# Display plot\n",
    "plt.show()"
   ]
  }
 ],
 "metadata": {
  "kernelspec": {
   "display_name": "Python [conda env:pytorch]",
   "language": "python",
   "name": "conda-env-pytorch-py"
  },
  "language_info": {
   "codemirror_mode": {
    "name": "ipython",
    "version": 3
   },
   "file_extension": ".py",
   "mimetype": "text/x-python",
   "name": "python",
   "nbconvert_exporter": "python",
   "pygments_lexer": "ipython3",
   "version": "3.9.16"
  }
 },
 "nbformat": 4,
 "nbformat_minor": 5
}
